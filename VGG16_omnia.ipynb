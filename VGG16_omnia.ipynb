{
  "cells": [
    {
      "cell_type": "code",
      "execution_count": 9,
      "metadata": {
        "colab": {
          "base_uri": "https://localhost:8080/"
        },
        "id": "L5yUP5mnZWcS",
        "outputId": "4cc8d97f-062c-45f2-f0e3-abc8146e5f5e"
      },
      "outputs": [
        {
          "output_type": "stream",
          "name": "stdout",
          "text": [
            "Downloading from https://www.kaggle.com/api/v1/datasets/download/muhammadalbrham/rgb-arabic-alphabets-sign-language-dataset?dataset_version_number=4...\n"
          ]
        },
        {
          "output_type": "stream",
          "name": "stderr",
          "text": [
            "100%|██████████| 4.72G/4.72G [00:45<00:00, 111MB/s]\n"
          ]
        },
        {
          "output_type": "stream",
          "name": "stdout",
          "text": [
            "Extracting files...\n",
            "Path to dataset files: /root/.cache/kagglehub/datasets/muhammadalbrham/rgb-arabic-alphabets-sign-language-dataset/versions/4\n"
          ]
        }
      ],
      "source": [
        "import kagglehub\n",
        "\n",
        "# Download latest version\n",
        "path = kagglehub.dataset_download(\"muhammadalbrham/rgb-arabic-alphabets-sign-language-dataset\")\n",
        "\n",
        "print(\"Path to dataset files:\", path)"
      ]
    },
    {
      "cell_type": "code",
      "execution_count": 10,
      "metadata": {
        "id": "xsepBuHGZsx_"
      },
      "outputs": [],
      "source": [
        "import os\n",
        "import numpy as np\n",
        "import pandas as pd\n",
        "from sklearn.model_selection import train_test_split\n",
        "from tensorflow.keras.preprocessing.image import ImageDataGenerator\n",
        "from tensorflow.keras.applications import VGG16\n",
        "from tensorflow.keras.models import Model\n",
        "from tensorflow.keras.layers import Dense, Flatten, Dropout\n",
        "from tensorflow.keras.optimizers import Adam\n",
        "from tensorflow.keras.callbacks import ModelCheckpoint\n",
        "import matplotlib.pyplot as plt\n",
        "from tensorflow.keras.preprocessing.image import load_img, img_to_array"
      ]
    },
    {
      "cell_type": "code",
      "execution_count": 11,
      "metadata": {
        "id": "jwFrqcgSZye8"
      },
      "outputs": [],
      "source": [
        "dataset_dir = \"/root/.cache/kagglehub/datasets/muhammadalbrham/rgb-arabic-alphabets-sign-language-dataset/versions/4\"  # تأكد من وضع مسار المجلد الرئيسي للبيانات هنا\n"
      ]
    },
    {
      "cell_type": "code",
      "execution_count": 12,
      "metadata": {
        "id": "3tqBsK1DZ2Ve"
      },
      "outputs": [],
      "source": [
        "import os\n",
        "import shutil\n",
        "from sklearn.model_selection import train_test_split\n",
        "\n",
        "# مسار المجلد الذي يحتوي على كل الصور\n",
        "dataset_dir = \"/root/.cache/kagglehub/datasets/muhammadalbrham/rgb-arabic-alphabets-sign-language-dataset/versions/4/RGB ArSL dataset\"  # تأكد من تحديث المسار بشكل صحيح\n",
        "\n",
        "# الحصول على جميع الصور\n",
        "images = [os.path.join(dataset_dir, class_name, img) for class_name in os.listdir(dataset_dir)\n",
        "          if os.path.isdir(os.path.join(dataset_dir, class_name))  # التأكد من أن العناصر هي مجلدات\n",
        "          for img in os.listdir(os.path.join(dataset_dir, class_name))\n",
        "          if img.lower().endswith(('.jpg', '.jpeg', '.png'))]\n",
        "\n",
        "# استخراج أسماء الفئات من أسماء المجلدات\n",
        "class_names = [img.split(os.sep)[-2] for img in images]  # الفئة هي اسم المجلد الذي يحتوي الصورة\n",
        "\n",
        "# تقسيم البيانات إلى تدريب واختبار (80% تدريب، 20% اختبار)\n",
        "train_imgs, valid_imgs, train_classes, valid_classes = train_test_split(images, class_names, test_size=0.2, random_state=42)\n",
        "\n",
        "# إعداد مسارات الإخراج\n",
        "output_dirs = {\n",
        "    \"train\": \"datasets/train\",\n",
        "    \"valid\": \"datasets/valid\",\n",
        "}\n",
        "\n",
        "\n"
      ]
    },
    {
      "cell_type": "code",
      "execution_count": 13,
      "metadata": {
        "colab": {
          "base_uri": "https://localhost:8080/"
        },
        "id": "Q1iyd27mhEhg",
        "outputId": "844ea0d6-20ce-4af8-ef5d-154ed54c3946"
      },
      "outputs": [
        {
          "output_type": "stream",
          "name": "stdout",
          "text": [
            "تم تقسيم البيانات وإعداد الملفات بنجاح!\n"
          ]
        }
      ],
      "source": [
        "# إنشاء المجلدات\n",
        "for split in output_dirs:\n",
        "    os.makedirs(output_dirs[split], exist_ok=True)\n",
        "\n",
        "# ترميز الفئات إلى أرقام\n",
        "unique_classes = sorted(set(class_names))\n",
        "class_to_id = {class_name: idx for idx, class_name in enumerate(unique_classes)}\n",
        "\n",
        "# نقل الصور إلى المجلدات المناسبة مع الحفاظ على الفئات\n",
        "for split, data in zip([\"train\", \"valid\"], [(train_imgs, train_classes), (valid_imgs, valid_classes)]):\n",
        "    for img_path, class_name in zip(data[0], data[1]):\n",
        "        # تحديد المجلد الخاص بالفئة\n",
        "        class_folder = os.path.join(output_dirs[split], class_name)\n",
        "        os.makedirs(class_folder, exist_ok=True)  # إنشاء مجلد الفئة إذا لم يكن موجوداً\n",
        "        # نسخ الصورة إلى المجلد المناسب\n",
        "        shutil.copy(img_path, class_folder)\n",
        "\n",
        "print(\"تم تقسيم البيانات وإعداد الملفات بنجاح!\")\n"
      ]
    },
    {
      "cell_type": "code",
      "execution_count": 14,
      "metadata": {
        "id": "9HyZOFPBcmsY"
      },
      "outputs": [],
      "source": [
        "from PIL import ImageFile\n",
        "from keras.preprocessing.image import load_img, img_to_array\n",
        "import numpy as np\n",
        "\n",
        "# السماح بتحميل الصور الناقصة\n",
        "ImageFile.LOAD_TRUNCATED_IMAGES = True\n",
        "\n",
        "# دالة لمعالجة الصور\n",
        "def preprocess_images(image_paths, labels, img_size=(128, 128)):\n",
        "    images = []\n",
        "    valid_labels = []\n",
        "    for img_path, label in zip(image_paths, labels):\n",
        "        try:\n",
        "            img = load_img(img_path, target_size=img_size)\n",
        "            img_array = img_to_array(img) / 255.0  # تطبيع القيم إلى [0, 1]\n",
        "            images.append(img_array)\n",
        "            valid_labels.append(label)  # فقط الصور الصالحة\n",
        "        except (OSError, IOError):\n",
        "            print(f\"Skipping corrupted image: {img_path}\")\n",
        "    return np.array(images), np.array(valid_labels)\n"
      ]
    },
    {
      "cell_type": "code",
      "execution_count": 15,
      "metadata": {
        "id": "aSjzSmYYcqGA"
      },
      "outputs": [],
      "source": [
        "import os\n",
        "\n",
        "# تعريف مسار مجلد التدريب\n",
        "train_dir = \"/content/datasets/train\"  # استبدلي المسار بمسار المجلد الفعلي\n",
        "\n",
        "image_paths = []\n",
        "class_names = []\n",
        "\n",
        "for class_name in os.listdir(train_dir):\n",
        "    class_dir = os.path.join(train_dir, class_name)\n",
        "    if os.path.isdir(class_dir):  # التأكد من أن العنصر مجلد\n",
        "        for img_name in os.listdir(class_dir):\n",
        "            if img_name.lower().endswith(('.jpg', '.jpeg', '.png')):\n",
        "                image_paths.append(os.path.join(class_dir, img_name))\n",
        "                class_names.append(class_name)\n"
      ]
    },
    {
      "cell_type": "code",
      "execution_count": 16,
      "metadata": {
        "id": "kYdVzndLCZZd"
      },
      "outputs": [],
      "source": [
        "# **7. إعداد بيانات التدريب والتحقق**\n",
        "# تحويل أسماء الفئات إلى أرقام\n",
        "unique_classes = sorted(set(class_names))\n",
        "class_to_id = {class_name: idx for idx, class_name in enumerate(unique_classes)}\n"
      ]
    },
    {
      "cell_type": "code",
      "execution_count": 17,
      "metadata": {
        "id": "iMwwRCQJC6d0"
      },
      "outputs": [],
      "source": [
        "# تحويل الصور إلى مصفوفات NumPy\n",
        "train_labels = [class_to_id[class_name] for class_name in train_classes]\n",
        "valid_labels = [class_to_id[class_name] for class_name in valid_classes]\n",
        "\n",
        "x_train, y_train = preprocess_images(train_imgs, train_labels)\n",
        "x_valid, y_valid = preprocess_images(valid_imgs, valid_labels)"
      ]
    },
    {
      "cell_type": "code",
      "execution_count": 18,
      "metadata": {
        "colab": {
          "base_uri": "https://localhost:8080/"
        },
        "id": "B1DCRwWzcxup",
        "outputId": "e6e3f0a2-26e6-4b4a-c379-4e8e3be68108"
      },
      "outputs": [
        {
          "output_type": "stream",
          "name": "stdout",
          "text": [
            "Downloading data from https://storage.googleapis.com/tensorflow/keras-applications/vgg16/vgg16_weights_tf_dim_ordering_tf_kernels_notop.h5\n",
            "\u001b[1m58889256/58889256\u001b[0m \u001b[32m━━━━━━━━━━━━━━━━━━━━\u001b[0m\u001b[37m\u001b[0m \u001b[1m0s\u001b[0m 0us/step\n"
          ]
        }
      ],
      "source": [
        "# **8. إعداد نموذج VGG16**\n",
        "vgg_base = VGG16(weights=\"imagenet\", include_top=False, input_shape=(128, 128, 3))\n",
        "\n",
        "# تجميد الطبقات الأساسية\n",
        "for layer in vgg_base.layers:\n",
        "    layer.trainable = False\n",
        "\n",
        "# إضافة طبقات مخصصة\n",
        "x = Flatten()(vgg_base.output)\n",
        "x = Dense(256, activation=\"relu\")(x)\n",
        "x = Dropout(0.5)(x)\n",
        "output = Dense(len(unique_classes), activation=\"softmax\")(x)"
      ]
    },
    {
      "cell_type": "code",
      "execution_count": 19,
      "metadata": {
        "colab": {
          "base_uri": "https://localhost:8080/"
        },
        "id": "ImPfQOwic5oD",
        "outputId": "3541ce31-3d0f-4048-974e-2f2d6b0a708b"
      },
      "outputs": [
        {
          "output_type": "stream",
          "name": "stdout",
          "text": [
            "Epoch 1/20\n",
            "\u001b[1m197/197\u001b[0m \u001b[32m━━━━━━━━━━━━━━━━━━━━\u001b[0m\u001b[37m\u001b[0m \u001b[1m0s\u001b[0m 60ms/step - accuracy: 0.0807 - loss: 3.4123\n",
            "Epoch 1: val_accuracy improved from -inf to 0.34415, saving model to vgg16_sign_language_model.keras\n",
            "\u001b[1m197/197\u001b[0m \u001b[32m━━━━━━━━━━━━━━━━━━━━\u001b[0m\u001b[37m\u001b[0m \u001b[1m27s\u001b[0m 93ms/step - accuracy: 0.0809 - loss: 3.4112 - val_accuracy: 0.3441 - val_loss: 2.6924\n",
            "Epoch 2/20\n",
            "\u001b[1m196/197\u001b[0m \u001b[32m━━━━━━━━━━━━━━━━━━━\u001b[0m\u001b[37m━\u001b[0m \u001b[1m0s\u001b[0m 41ms/step - accuracy: 0.2708 - loss: 2.6460\n",
            "Epoch 2: val_accuracy improved from 0.34415 to 0.45483, saving model to vgg16_sign_language_model.keras\n",
            "\u001b[1m197/197\u001b[0m \u001b[32m━━━━━━━━━━━━━━━━━━━━\u001b[0m\u001b[37m\u001b[0m \u001b[1m26s\u001b[0m 55ms/step - accuracy: 0.2711 - loss: 2.6449 - val_accuracy: 0.4548 - val_loss: 2.1792\n",
            "Epoch 3/20\n",
            "\u001b[1m197/197\u001b[0m \u001b[32m━━━━━━━━━━━━━━━━━━━━\u001b[0m\u001b[37m\u001b[0m \u001b[1m0s\u001b[0m 41ms/step - accuracy: 0.3913 - loss: 2.1680\n",
            "Epoch 3: val_accuracy improved from 0.45483 to 0.51272, saving model to vgg16_sign_language_model.keras\n",
            "\u001b[1m197/197\u001b[0m \u001b[32m━━━━━━━━━━━━━━━━━━━━\u001b[0m\u001b[37m\u001b[0m \u001b[1m20s\u001b[0m 53ms/step - accuracy: 0.3914 - loss: 2.1677 - val_accuracy: 0.5127 - val_loss: 1.8837\n",
            "Epoch 4/20\n",
            "\u001b[1m197/197\u001b[0m \u001b[32m━━━━━━━━━━━━━━━━━━━━\u001b[0m\u001b[37m\u001b[0m \u001b[1m0s\u001b[0m 42ms/step - accuracy: 0.4718 - loss: 1.9069\n",
            "Epoch 4: val_accuracy improved from 0.51272 to 0.57761, saving model to vgg16_sign_language_model.keras\n",
            "\u001b[1m197/197\u001b[0m \u001b[32m━━━━━━━━━━━━━━━━━━━━\u001b[0m\u001b[37m\u001b[0m \u001b[1m21s\u001b[0m 53ms/step - accuracy: 0.4718 - loss: 1.9066 - val_accuracy: 0.5776 - val_loss: 1.6681\n",
            "Epoch 5/20\n",
            "\u001b[1m197/197\u001b[0m \u001b[32m━━━━━━━━━━━━━━━━━━━━\u001b[0m\u001b[37m\u001b[0m \u001b[1m0s\u001b[0m 41ms/step - accuracy: 0.5217 - loss: 1.6647\n",
            "Epoch 5: val_accuracy did not improve from 0.57761\n",
            "\u001b[1m197/197\u001b[0m \u001b[32m━━━━━━━━━━━━━━━━━━━━\u001b[0m\u001b[37m\u001b[0m \u001b[1m21s\u001b[0m 54ms/step - accuracy: 0.5218 - loss: 1.6645 - val_accuracy: 0.5712 - val_loss: 1.5733\n",
            "Epoch 6/20\n",
            "\u001b[1m197/197\u001b[0m \u001b[32m━━━━━━━━━━━━━━━━━━━━\u001b[0m\u001b[37m\u001b[0m \u001b[1m0s\u001b[0m 41ms/step - accuracy: 0.5757 - loss: 1.4960\n",
            "Epoch 6: val_accuracy improved from 0.57761 to 0.60687, saving model to vgg16_sign_language_model.keras\n",
            "\u001b[1m197/197\u001b[0m \u001b[32m━━━━━━━━━━━━━━━━━━━━\u001b[0m\u001b[37m\u001b[0m \u001b[1m11s\u001b[0m 57ms/step - accuracy: 0.5757 - loss: 1.4959 - val_accuracy: 0.6069 - val_loss: 1.4511\n",
            "Epoch 7/20\n",
            "\u001b[1m197/197\u001b[0m \u001b[32m━━━━━━━━━━━━━━━━━━━━\u001b[0m\u001b[37m\u001b[0m \u001b[1m0s\u001b[0m 43ms/step - accuracy: 0.6284 - loss: 1.3322\n",
            "Epoch 7: val_accuracy did not improve from 0.60687\n",
            "\u001b[1m197/197\u001b[0m \u001b[32m━━━━━━━━━━━━━━━━━━━━\u001b[0m\u001b[37m\u001b[0m \u001b[1m20s\u001b[0m 53ms/step - accuracy: 0.6283 - loss: 1.3323 - val_accuracy: 0.6062 - val_loss: 1.3870\n",
            "Epoch 8/20\n",
            "\u001b[1m197/197\u001b[0m \u001b[32m━━━━━━━━━━━━━━━━━━━━\u001b[0m\u001b[37m\u001b[0m \u001b[1m0s\u001b[0m 43ms/step - accuracy: 0.6381 - loss: 1.2648\n",
            "Epoch 8: val_accuracy improved from 0.60687 to 0.61832, saving model to vgg16_sign_language_model.keras\n",
            "\u001b[1m197/197\u001b[0m \u001b[32m━━━━━━━━━━━━━━━━━━━━\u001b[0m\u001b[37m\u001b[0m \u001b[1m21s\u001b[0m 56ms/step - accuracy: 0.6380 - loss: 1.2648 - val_accuracy: 0.6183 - val_loss: 1.3449\n",
            "Epoch 9/20\n",
            "\u001b[1m196/197\u001b[0m \u001b[32m━━━━━━━━━━━━━━━━━━━\u001b[0m\u001b[37m━\u001b[0m \u001b[1m0s\u001b[0m 43ms/step - accuracy: 0.6822 - loss: 1.1439\n",
            "Epoch 9: val_accuracy improved from 0.61832 to 0.63804, saving model to vgg16_sign_language_model.keras\n",
            "\u001b[1m197/197\u001b[0m \u001b[32m━━━━━━━━━━━━━━━━━━━━\u001b[0m\u001b[37m\u001b[0m \u001b[1m21s\u001b[0m 58ms/step - accuracy: 0.6821 - loss: 1.1439 - val_accuracy: 0.6380 - val_loss: 1.2734\n",
            "Epoch 10/20\n",
            "\u001b[1m197/197\u001b[0m \u001b[32m━━━━━━━━━━━━━━━━━━━━\u001b[0m\u001b[37m\u001b[0m \u001b[1m0s\u001b[0m 44ms/step - accuracy: 0.6710 - loss: 1.1252\n",
            "Epoch 10: val_accuracy did not improve from 0.63804\n",
            "\u001b[1m197/197\u001b[0m \u001b[32m━━━━━━━━━━━━━━━━━━━━\u001b[0m\u001b[37m\u001b[0m \u001b[1m20s\u001b[0m 54ms/step - accuracy: 0.6711 - loss: 1.1251 - val_accuracy: 0.6317 - val_loss: 1.2510\n",
            "Epoch 11/20\n",
            "\u001b[1m196/197\u001b[0m \u001b[32m━━━━━━━━━━━━━━━━━━━\u001b[0m\u001b[37m━\u001b[0m \u001b[1m0s\u001b[0m 44ms/step - accuracy: 0.7194 - loss: 1.0038\n",
            "Epoch 11: val_accuracy improved from 0.63804 to 0.64122, saving model to vgg16_sign_language_model.keras\n",
            "\u001b[1m197/197\u001b[0m \u001b[32m━━━━━━━━━━━━━━━━━━━━\u001b[0m\u001b[37m\u001b[0m \u001b[1m11s\u001b[0m 56ms/step - accuracy: 0.7194 - loss: 1.0037 - val_accuracy: 0.6412 - val_loss: 1.1969\n",
            "Epoch 12/20\n",
            "\u001b[1m197/197\u001b[0m \u001b[32m━━━━━━━━━━━━━━━━━━━━\u001b[0m\u001b[37m\u001b[0m \u001b[1m0s\u001b[0m 44ms/step - accuracy: 0.7397 - loss: 0.9277\n",
            "Epoch 12: val_accuracy improved from 0.64122 to 0.64186, saving model to vgg16_sign_language_model.keras\n",
            "\u001b[1m197/197\u001b[0m \u001b[32m━━━━━━━━━━━━━━━━━━━━\u001b[0m\u001b[37m\u001b[0m \u001b[1m11s\u001b[0m 56ms/step - accuracy: 0.7397 - loss: 0.9279 - val_accuracy: 0.6419 - val_loss: 1.1869\n",
            "Epoch 13/20\n",
            "\u001b[1m197/197\u001b[0m \u001b[32m━━━━━━━━━━━━━━━━━━━━\u001b[0m\u001b[37m\u001b[0m \u001b[1m0s\u001b[0m 43ms/step - accuracy: 0.7483 - loss: 0.8924\n",
            "Epoch 13: val_accuracy improved from 0.64186 to 0.66031, saving model to vgg16_sign_language_model.keras\n",
            "\u001b[1m197/197\u001b[0m \u001b[32m━━━━━━━━━━━━━━━━━━━━\u001b[0m\u001b[37m\u001b[0m \u001b[1m11s\u001b[0m 56ms/step - accuracy: 0.7484 - loss: 0.8924 - val_accuracy: 0.6603 - val_loss: 1.1514\n",
            "Epoch 14/20\n",
            "\u001b[1m197/197\u001b[0m \u001b[32m━━━━━━━━━━━━━━━━━━━━\u001b[0m\u001b[37m\u001b[0m \u001b[1m0s\u001b[0m 42ms/step - accuracy: 0.7676 - loss: 0.8302\n",
            "Epoch 14: val_accuracy did not improve from 0.66031\n",
            "\u001b[1m197/197\u001b[0m \u001b[32m━━━━━━━━━━━━━━━━━━━━\u001b[0m\u001b[37m\u001b[0m \u001b[1m20s\u001b[0m 52ms/step - accuracy: 0.7676 - loss: 0.8303 - val_accuracy: 0.6527 - val_loss: 1.1363\n",
            "Epoch 15/20\n",
            "\u001b[1m197/197\u001b[0m \u001b[32m━━━━━━━━━━━━━━━━━━━━\u001b[0m\u001b[37m\u001b[0m \u001b[1m0s\u001b[0m 43ms/step - accuracy: 0.7799 - loss: 0.7808\n",
            "Epoch 15: val_accuracy improved from 0.66031 to 0.66603, saving model to vgg16_sign_language_model.keras\n",
            "\u001b[1m197/197\u001b[0m \u001b[32m━━━━━━━━━━━━━━━━━━━━\u001b[0m\u001b[37m\u001b[0m \u001b[1m11s\u001b[0m 55ms/step - accuracy: 0.7799 - loss: 0.7808 - val_accuracy: 0.6660 - val_loss: 1.1260\n",
            "Epoch 16/20\n",
            "\u001b[1m196/197\u001b[0m \u001b[32m━━━━━━━━━━━━━━━━━━━\u001b[0m\u001b[37m━\u001b[0m \u001b[1m0s\u001b[0m 44ms/step - accuracy: 0.7987 - loss: 0.7329\n",
            "Epoch 16: val_accuracy improved from 0.66603 to 0.66667, saving model to vgg16_sign_language_model.keras\n",
            "\u001b[1m197/197\u001b[0m \u001b[32m━━━━━━━━━━━━━━━━━━━━\u001b[0m\u001b[37m\u001b[0m \u001b[1m21s\u001b[0m 56ms/step - accuracy: 0.7988 - loss: 0.7327 - val_accuracy: 0.6667 - val_loss: 1.0988\n",
            "Epoch 17/20\n",
            "\u001b[1m196/197\u001b[0m \u001b[32m━━━━━━━━━━━━━━━━━━━\u001b[0m\u001b[37m━\u001b[0m \u001b[1m0s\u001b[0m 44ms/step - accuracy: 0.8159 - loss: 0.6908\n",
            "Epoch 17: val_accuracy did not improve from 0.66667\n",
            "\u001b[1m197/197\u001b[0m \u001b[32m━━━━━━━━━━━━━━━━━━━━\u001b[0m\u001b[37m\u001b[0m \u001b[1m21s\u001b[0m 57ms/step - accuracy: 0.8159 - loss: 0.6908 - val_accuracy: 0.6648 - val_loss: 1.0993\n",
            "Epoch 18/20\n",
            "\u001b[1m197/197\u001b[0m \u001b[32m━━━━━━━━━━━━━━━━━━━━\u001b[0m\u001b[37m\u001b[0m \u001b[1m0s\u001b[0m 44ms/step - accuracy: 0.8171 - loss: 0.6697\n",
            "Epoch 18: val_accuracy improved from 0.66667 to 0.67494, saving model to vgg16_sign_language_model.keras\n",
            "\u001b[1m197/197\u001b[0m \u001b[32m━━━━━━━━━━━━━━━━━━━━\u001b[0m\u001b[37m\u001b[0m \u001b[1m11s\u001b[0m 56ms/step - accuracy: 0.8171 - loss: 0.6697 - val_accuracy: 0.6749 - val_loss: 1.0920\n",
            "Epoch 19/20\n",
            "\u001b[1m197/197\u001b[0m \u001b[32m━━━━━━━━━━━━━━━━━━━━\u001b[0m\u001b[37m\u001b[0m \u001b[1m0s\u001b[0m 43ms/step - accuracy: 0.8342 - loss: 0.6062\n",
            "Epoch 19: val_accuracy did not improve from 0.67494\n",
            "\u001b[1m197/197\u001b[0m \u001b[32m━━━━━━━━━━━━━━━━━━━━\u001b[0m\u001b[37m\u001b[0m \u001b[1m20s\u001b[0m 53ms/step - accuracy: 0.8342 - loss: 0.6063 - val_accuracy: 0.6711 - val_loss: 1.0728\n",
            "Epoch 20/20\n",
            "\u001b[1m196/197\u001b[0m \u001b[32m━━━━━━━━━━━━━━━━━━━\u001b[0m\u001b[37m━\u001b[0m \u001b[1m0s\u001b[0m 43ms/step - accuracy: 0.8506 - loss: 0.5810\n",
            "Epoch 20: val_accuracy did not improve from 0.67494\n",
            "\u001b[1m197/197\u001b[0m \u001b[32m━━━━━━━━━━━━━━━━━━━━\u001b[0m\u001b[37m\u001b[0m \u001b[1m20s\u001b[0m 53ms/step - accuracy: 0.8505 - loss: 0.5811 - val_accuracy: 0.6673 - val_loss: 1.0529\n"
          ]
        }
      ],
      "source": [
        "# بناء النموذج\n",
        "model = Model(inputs=vgg_base.input, outputs=output)\n",
        "model.compile(optimizer=Adam(learning_rate=0.0001), loss=\"sparse_categorical_crossentropy\", metrics=[\"accuracy\"])\n",
        "\n",
        "# **9. إعداد نقاط الحفظ**\n",
        "checkpoint = ModelCheckpoint(\"vgg16_sign_language_model.keras\", monitor=\"val_accuracy\", save_best_only=True, verbose=1)\n",
        "\n",
        "\n",
        "# **10. تدريب النموذج**\n",
        "history = model.fit(\n",
        "    x_train, y_train,\n",
        "    validation_data=(x_valid, y_valid),\n",
        "    epochs=20,\n",
        "    batch_size=32,\n",
        "    callbacks=[checkpoint],\n",
        "    verbose=1\n",
        ")"
      ]
    },
    {
      "cell_type": "code",
      "execution_count": 20,
      "metadata": {
        "id": "kK6UD8Syc5xx",
        "colab": {
          "base_uri": "https://localhost:8080/",
          "height": 1000
        },
        "outputId": "5289d2c6-5ca5-4b1a-b3cb-5a5081deb3fe"
      },
      "outputs": [
        {
          "output_type": "display_data",
          "data": {
            "text/plain": [
              "<Figure size 1200x600 with 1 Axes>"
            ],
            "image/png": "[encoded data removed]"
          },
          "metadata": {}
        },
        {
          "output_type": "display_data",
          "data": {
            "text/plain": [
              "<Figure size 1200x600 with 1 Axes>"
            ],
            "image/png": "[encoded data removed]"
          },
          "metadata": {}
        }
      ],
      "source": [
        "# **11. رسم النتائج**\n",
        "plt.figure(figsize=(12, 6))\n",
        "plt.plot(history.history[\"accuracy\"], label=\"Training Accuracy\")\n",
        "plt.plot(history.history[\"val_accuracy\"], label=\"Validation Accuracy\")\n",
        "plt.title(\"Model Accuracy\")\n",
        "plt.xlabel(\"Epochs\")\n",
        "plt.ylabel(\"Accuracy\")\n",
        "plt.legend()\n",
        "plt.show()\n",
        "\n",
        "plt.figure(figsize=(12, 6))\n",
        "plt.plot(history.history[\"loss\"], label=\"Training Loss\")\n",
        "plt.plot(history.history[\"val_loss\"], label=\"Validation Loss\")\n",
        "plt.title(\"Model Loss\")\n",
        "plt.xlabel(\"Epochs\")\n",
        "plt.ylabel(\"Loss\")\n",
        "plt.legend()\n",
        "plt.show()\n"
      ]
    },
    {
      "cell_type": "code",
      "execution_count": 21,
      "metadata": {
        "id": "tf45rxLVc53_"
      },
      "outputs": [],
      "source": [
        "# حفظ النموذج\n",
        "model.save(\"vgg16_sign_language_model.keras\")\n"
      ]
    },
    {
      "cell_type": "code",
      "source": [
        "from google.colab import files\n",
        "\n",
        "# تنزيل الملف إلى جهازك\n",
        "files.download(\"vgg16_sign_language_model.keras\")\n"
      ],
      "metadata": {
        "colab": {
          "base_uri": "https://localhost:8080/",
          "height": 17
        },
        "id": "QME8ddGDVdXJ",
        "outputId": "61d77e37-793b-4d3f-f456-b01f3d54ab47"
      },
      "execution_count": 23,
      "outputs": [
        {
          "output_type": "display_data",
          "data": {
            "text/plain": [
              "<IPython.core.display.Javascript object>"
            ],
            "application/javascript": [
              "\n",
              "    async function download(id, filename, size) {\n",
              "      if (!google.colab.kernel.accessAllowed) {\n",
              "        return;\n",
              "      }\n",
              "      const div = document.createElement('div');\n",
              "      const label = document.createElement('label');\n",
              "      label.textContent = `Downloading \"${filename}\": `;\n",
              "      div.appendChild(label);\n",
              "      const progress = document.createElement('progress');\n",
              "      progress.max = size;\n",
              "      div.appendChild(progress);\n",
              "      document.body.appendChild(div);\n",
              "\n",
              "      const buffers = [];\n",
              "      let downloaded = 0;\n",
              "\n",
              "      const channel = await google.colab.kernel.comms.open(id);\n",
              "      // Send a message to notify the kernel that we're ready.\n",
              "      channel.send({})\n",
              "\n",
              "      for await (const message of channel.messages) {\n",
              "        // Send a message to notify the kernel that we're ready.\n",
              "        channel.send({})\n",
              "        if (message.buffers) {\n",
              "          for (const buffer of message.buffers) {\n",
              "            buffers.push(buffer);\n",
              "            downloaded += buffer.byteLength;\n",
              "            progress.value = downloaded;\n",
              "          }\n",
              "        }\n",
              "      }\n",
              "      const blob = new Blob(buffers, {type: 'application/binary'});\n",
              "      const a = document.createElement('a');\n",
              "      a.href = window.URL.createObjectURL(blob);\n",
              "      a.download = filename;\n",
              "      div.appendChild(a);\n",
              "      a.click();\n",
              "      div.remove();\n",
              "    }\n",
              "  "
            ]
          },
          "metadata": {}
        },
        {
          "output_type": "display_data",
          "data": {
            "text/plain": [
              "<IPython.core.display.Javascript object>"
            ],
            "application/javascript": [
              "download(\"download_61de959a-f131-4273-bdfa-67262e53d6d7\", \"vgg16_sign_language_model.keras\", 84208029)"
            ]
          },
          "metadata": {}
        }
      ]
    },
    {
      "cell_type": "code",
      "source": [
        "import tensorflow as tf\n",
        "import tensorflow as tf  # تأكد من استيراد TensorFlow\n",
        "\n",
        "# تحويل النموذج إلى TensorFlow Lite\n",
        "converter = tf.lite.TFLiteConverter.from_keras_model(model)  # قم بإنشاء المحول\n",
        "tflite_model = converter.convert()  # قم بتحويل النموذج\n",
        "\n",
        "# حفظ النموذج المحول إلى ملف\n",
        "with open(\"sign_language_model.tflite\", \"wb\") as f:\n",
        "    f.write(tflite_model)\n",
        "\n"
      ],
      "metadata": {
        "colab": {
          "base_uri": "https://localhost:8080/"
        },
        "id": "SDrcv563WtA4",
        "outputId": "84061501-50ff-45e9-f5a8-687f095095e9"
      },
      "execution_count": 26,
      "outputs": [
        {
          "output_type": "stream",
          "name": "stdout",
          "text": [
            "Saved artifact at '/tmp/tmpcl1n88ps'. The following endpoints are available:\n",
            "\n",
            "* Endpoint 'serve'\n",
            "  args_0 (POSITIONAL_ONLY): TensorSpec(shape=(None, 128, 128, 3), dtype=tf.float32, name='keras_tensor')\n",
            "Output Type:\n",
            "  TensorSpec(shape=(None, 31), dtype=tf.float32, name=None)\n",
            "Captures:\n",
            "  139114772641776: TensorSpec(shape=(), dtype=tf.resource, name=None)\n",
            "  139114771684112: TensorSpec(shape=(), dtype=tf.resource, name=None)\n",
            "  139114776496256: TensorSpec(shape=(), dtype=tf.resource, name=None)\n",
            "  139114771680240: TensorSpec(shape=(), dtype=tf.resource, name=None)\n",
            "  139114771682176: TensorSpec(shape=(), dtype=tf.resource, name=None)\n",
            "  139114772553696: TensorSpec(shape=(), dtype=tf.resource, name=None)\n",
            "  139114774109472: TensorSpec(shape=(), dtype=tf.resource, name=None)\n",
            "  139114772556864: TensorSpec(shape=(), dtype=tf.resource, name=None)\n",
            "  139114772551232: TensorSpec(shape=(), dtype=tf.resource, name=None)\n",
            "  139114771523968: TensorSpec(shape=(), dtype=tf.resource, name=None)\n",
            "  139114771526784: TensorSpec(shape=(), dtype=tf.resource, name=None)\n",
            "  139114771522912: TensorSpec(shape=(), dtype=tf.resource, name=None)\n",
            "  139114771529072: TensorSpec(shape=(), dtype=tf.resource, name=None)\n",
            "  139114771525200: TensorSpec(shape=(), dtype=tf.resource, name=None)\n",
            "  139114771522736: TensorSpec(shape=(), dtype=tf.resource, name=None)\n",
            "  139114771222720: TensorSpec(shape=(), dtype=tf.resource, name=None)\n",
            "  139114771225536: TensorSpec(shape=(), dtype=tf.resource, name=None)\n",
            "  139114771219376: TensorSpec(shape=(), dtype=tf.resource, name=None)\n",
            "  139114771228352: TensorSpec(shape=(), dtype=tf.resource, name=None)\n",
            "  139114771224480: TensorSpec(shape=(), dtype=tf.resource, name=None)\n",
            "  139114771232576: TensorSpec(shape=(), dtype=tf.resource, name=None)\n",
            "  139114771229408: TensorSpec(shape=(), dtype=tf.resource, name=None)\n",
            "  139114771231520: TensorSpec(shape=(), dtype=tf.resource, name=None)\n",
            "  139114771232400: TensorSpec(shape=(), dtype=tf.resource, name=None)\n",
            "  139114771230288: TensorSpec(shape=(), dtype=tf.resource, name=None)\n",
            "  139114771140976: TensorSpec(shape=(), dtype=tf.resource, name=None)\n",
            "  139114772561264: TensorSpec(shape=(), dtype=tf.resource, name=None)\n",
            "  139114771143616: TensorSpec(shape=(), dtype=tf.resource, name=None)\n",
            "  139114771146432: TensorSpec(shape=(), dtype=tf.resource, name=None)\n",
            "  139114771148896: TensorSpec(shape=(), dtype=tf.resource, name=None)\n"
          ]
        }
      ]
    },
    {
      "cell_type": "code",
      "source": [
        "from google.colab import files\n",
        "\n",
        "files.download(\"sign_language_model.tflite\")\n"
      ],
      "metadata": {
        "colab": {
          "base_uri": "https://localhost:8080/",
          "height": 17
        },
        "id": "yCu3rQl4X-0K",
        "outputId": "59b5d1f6-2c9b-45c2-8f1b-43e9c8543245"
      },
      "execution_count": 27,
      "outputs": [
        {
          "output_type": "display_data",
          "data": {
            "text/plain": [
              "<IPython.core.display.Javascript object>"
            ],
            "application/javascript": [
              "\n",
              "    async function download(id, filename, size) {\n",
              "      if (!google.colab.kernel.accessAllowed) {\n",
              "        return;\n",
              "      }\n",
              "      const div = document.createElement('div');\n",
              "      const label = document.createElement('label');\n",
              "      label.textContent = `Downloading \"${filename}\": `;\n",
              "      div.appendChild(label);\n",
              "      const progress = document.createElement('progress');\n",
              "      progress.max = size;\n",
              "      div.appendChild(progress);\n",
              "      document.body.appendChild(div);\n",
              "\n",
              "      const buffers = [];\n",
              "      let downloaded = 0;\n",
              "\n",
              "      const channel = await google.colab.kernel.comms.open(id);\n",
              "      // Send a message to notify the kernel that we're ready.\n",
              "      channel.send({})\n",
              "\n",
              "      for await (const message of channel.messages) {\n",
              "        // Send a message to notify the kernel that we're ready.\n",
              "        channel.send({})\n",
              "        if (message.buffers) {\n",
              "          for (const buffer of message.buffers) {\n",
              "            buffers.push(buffer);\n",
              "            downloaded += buffer.byteLength;\n",
              "            progress.value = downloaded;\n",
              "          }\n",
              "        }\n",
              "      }\n",
              "      const blob = new Blob(buffers, {type: 'application/binary'});\n",
              "      const a = document.createElement('a');\n",
              "      a.href = window.URL.createObjectURL(blob);\n",
              "      a.download = filename;\n",
              "      div.appendChild(a);\n",
              "      a.click();\n",
              "      div.remove();\n",
              "    }\n",
              "  "
            ]
          },
          "metadata": {}
        },
        {
          "output_type": "display_data",
          "data": {
            "text/plain": [
              "<IPython.core.display.Javascript object>"
            ],
            "application/javascript": [
              "download(\"download_43f9ab87-3385-4e86-9b78-4a17f2259175\", \"sign_language_model.tflite\", 67289444)"
            ]
          },
          "metadata": {}
        }
      ]
    }
  ],
  "metadata": {
    "accelerator": "GPU",
    "colab": {
      "gpuType": "T4",
      "provenance": []
    },
    "kernelspec": {
      "display_name": "Python 3",
      "name": "python3"
    },
    "language_info": {
      "name": "python"
    }
  },
  "nbformat": 4,
  "nbformat_minor": 0
}